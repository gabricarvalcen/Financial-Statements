{
 "cells": [
  {
   "cell_type": "code",
   "execution_count": 375,
   "id": "52d3ad4b-1d6b-4e8c-a07c-9c94449c25cf",
   "metadata": {},
   "outputs": [],
   "source": [
    "import financial_statements as fs\n",
    "from datetime import date\n",
    "import numpy as np\n",
    "import pandas as pd\n",
    "import stock_manager as sm"
   ]
  },
  {
   "cell_type": "markdown",
   "id": "a241be22-bd24-4e62-a222-0edaab88c9d6",
   "metadata": {},
   "source": [
    "## Importação de Dados Comparativos Cielo X GetNet"
   ]
  },
  {
   "cell_type": "code",
   "execution_count": 385,
   "id": "2fe944e7-31c1-4213-a035-ede24c560881",
   "metadata": {},
   "outputs": [],
   "source": [
    "get_net = fs.Financials_Statements(26140, date(2021, 1,1))\n",
    "cielo = fs.Financials_Statements(21733, date(2021, 1, 1))"
   ]
  },
  {
   "cell_type": "markdown",
   "id": "cba9ff75-001a-4c45-a311-326cf80f144b",
   "metadata": {},
   "source": [
    "### Lucro e Receita Acumulados - Começando em 01/01/2021"
   ]
  },
  {
   "cell_type": "code",
   "execution_count": 247,
   "id": "1b60b5cc-9325-4950-a654-4fc60d500b74",
   "metadata": {},
   "outputs": [],
   "source": [
    "lucro_gn = get_net.income_acum(\"Lucro/Prejuízo Consolidado do Período\", \"itr\", 3)\n",
    "lucro_cie = cielo.income_acum(\"Lucro/Prejuízo do Período\", \"itr\", 3)\n",
    "receita_gn = get_net.income_acum(\"Receita de Venda de Bens e/ou Serviços\", \"itr\", 3)\n",
    "receita_cie = cielo.income_acum(\"Receita de Venda de Bens e/ou Serviços\", \"itr\", 3)"
   ]
  },
  {
   "cell_type": "markdown",
   "id": "a183774c-ca82-4e19-828e-4e459fcea643",
   "metadata": {},
   "source": [
    "Acumulando Resultado Operacional"
   ]
  },
  {
   "cell_type": "code",
   "execution_count": 248,
   "id": "54ee602b-8f43-4211-95cf-d079a8a06b6e",
   "metadata": {},
   "outputs": [],
   "source": [
    "operacional_gn = get_net.income_acum('Resultado Antes do Resultado Financeiro e dos Tributos', \"itr\", 3)\n",
    "operacional_cie = cielo.income_acum('Resultado Antes do Resultado Financeiro e dos Tributos', \"itr\", 3)"
   ]
  },
  {
   "cell_type": "markdown",
   "id": "8cfd2aa7-9c99-4f31-9c05-85561574c919",
   "metadata": {},
   "source": [
    "Cálculo da margem Líquida e margem ebit"
   ]
  },
  {
   "cell_type": "code",
   "execution_count": 249,
   "id": "84ce88a8-857d-4b14-a098-c406cce2ed18",
   "metadata": {},
   "outputs": [],
   "source": [
    "margem_liquida_gn = np.array(lucro_gn) / np.array(receita_gn)\n",
    "margem_liquida_cie = np.array(lucro_cie) / np.array(receita_cie)"
   ]
  },
  {
   "cell_type": "code",
   "execution_count": 250,
   "id": "141a661a-8fbc-47ac-9e91-92d5cc7f6924",
   "metadata": {},
   "outputs": [],
   "source": [
    "margem_bruta_gn = np.array(operacional_gn) / np.array(receita_gn) \n",
    "margem_bruta_cie = np.array(operacional_cie) / np.array(receita_cie) "
   ]
  },
  {
   "cell_type": "code",
   "execution_count": 51,
   "id": "fb3bb12b-19d0-44ee-999b-9915685310d4",
   "metadata": {},
   "outputs": [],
   "source": [
    "df = pd.DataFrame()"
   ]
  },
  {
   "cell_type": "code",
   "execution_count": 251,
   "id": "bd1deecd-f833-47a5-9f23-f7f34c710032",
   "metadata": {},
   "outputs": [],
   "source": [
    "df.index = lucro_gn.index"
   ]
  },
  {
   "cell_type": "code",
   "execution_count": 252,
   "id": "4e1d25ce-76a9-4713-b5fd-77c91d776f1c",
   "metadata": {},
   "outputs": [],
   "source": [
    "df[\"Margem Bruta Getnet\"] = margem_bruta_gn"
   ]
  },
  {
   "cell_type": "code",
   "execution_count": 253,
   "id": "fcd29b6d-10c2-49be-af90-1dcee087a0e1",
   "metadata": {},
   "outputs": [],
   "source": [
    "df[\"Margem Bruta Cielo\"] = margem_bruta_cie\n",
    "df[\"Margem Líquida GETNET\"] = margem_liquida_gn\n",
    "df[\"Margem Líquida Cielo\"] = margem_liquida_cie"
   ]
  },
  {
   "cell_type": "code",
   "execution_count": 254,
   "id": "71207e11-65ab-492e-bf58-3633cd1d32a2",
   "metadata": {},
   "outputs": [],
   "source": [
    "df[\"LL GETNET\"] = np.array(lucro_gn)\n",
    "df[\"LL Cielo\"] = np.array(lucro_cie)"
   ]
  },
  {
   "cell_type": "code",
   "execution_count": null,
   "id": "e817e9be-4afd-439d-a96c-eb0edea99fed",
   "metadata": {},
   "outputs": [
    {
     "data": {
      "text/plain": [
       "(92154.33333333333, 211205.33333333334)"
      ]
     },
     "execution_count": 334,
     "metadata": {},
     "output_type": "execute_result"
    }
   ],
   "source": [
    "\"LL Get Net\"df[\"LL GETNET\"].mean(), df[\"LL Cielo\"].mean() "
   ]
  },
  {
   "cell_type": "code",
   "execution_count": 335,
   "id": "852b1e68-e438-4270-9e0f-26decaba9d45",
   "metadata": {},
   "outputs": [
    {
     "data": {
      "text/plain": [
       "(37877.89096997526, 30431.687980349256)"
      ]
     },
     "execution_count": 335,
     "metadata": {},
     "output_type": "execute_result"
    }
   ],
   "source": [
    "df[\"LL GETNET\"].std(), df[\"LL Cielo\"].std() "
   ]
  },
  {
   "cell_type": "code",
   "execution_count": 338,
   "id": "0d1fa139-31d7-48c6-8ae0-871b32b026bd",
   "metadata": {},
   "outputs": [
    {
     "data": {
      "text/plain": [
       "(0.5064157262663589, -0.03872439430473179)"
      ]
     },
     "execution_count": 338,
     "metadata": {},
     "output_type": "execute_result"
    }
   ],
   "source": [
    "df[\"LL GETNET\"].pct_change().mean(), df[\"LL Cielo\"].pct_change().mean()"
   ]
  },
  {
   "cell_type": "code",
   "execution_count": 343,
   "id": "69b4d985-5cf6-469b-ab34-eade72fa7552",
   "metadata": {},
   "outputs": [
    {
     "data": {
      "text/plain": [
       "0.5718982707448415"
      ]
     },
     "execution_count": 343,
     "metadata": {},
     "output_type": "execute_result"
    }
   ],
   "source": [
    "(df[\"LL GETNET\"].pct_change() + 1).prod() - 1"
   ]
  },
  {
   "cell_type": "code",
   "execution_count": 344,
   "id": "73f0b9c5-b37e-4f48-8e3a-06d79de40d7d",
   "metadata": {},
   "outputs": [
    {
     "data": {
      "text/plain": [
       "-0.12152763385862675"
      ]
     },
     "execution_count": 344,
     "metadata": {},
     "output_type": "execute_result"
    }
   ],
   "source": [
    "(df[\"LL Cielo\"].pct_change() + 1).prod() - 1"
   ]
  },
  {
   "cell_type": "code",
   "execution_count": 362,
   "id": "168729d5-daff-47cc-a093-714b2cfde6b9",
   "metadata": {},
   "outputs": [],
   "source": [
    "passivo_gn = get_net.balance_sheet_liabilities(get_net.numero_seq_documento_itr.iloc[0,1], \"itr\")\n",
    "passivo_cielo = cielo.balance_sheet_liabilities(cielo.numero_seq_documento_itr.iloc[0,1], \"itr\")"
   ]
  },
  {
   "cell_type": "code",
   "execution_count": 355,
   "id": "82973f4a-10c2-4f33-b053-3a8082c58b96",
   "metadata": {},
   "outputs": [],
   "source": [
    "pd.set_option('display.max_rows', 200)"
   ]
  },
  {
   "cell_type": "code",
   "execution_count": 364,
   "id": "e22e355d-7fef-40fb-a5e4-d46f2755ec10",
   "metadata": {},
   "outputs": [],
   "source": [
    "pl_cielo = cielo.income_acum(\"Patrimônio Líquido\", \"itr\", 2)\n",
    "pl_gn = get_net.income_acum(\"Patrimônio Líquido Consolidado\", \"itr\", 2)"
   ]
  },
  {
   "cell_type": "markdown",
   "id": "5c7119f0-885e-4f80-856e-f75164596668",
   "metadata": {},
   "source": [
    "## Taxa de Crescimento do Patrimônio Líquido"
   ]
  },
  {
   "cell_type": "code",
   "execution_count": 367,
   "id": "76f77da9-adbc-4307-a25e-d2e6a8ee4093",
   "metadata": {},
   "outputs": [
    {
     "data": {
      "text/plain": [
       "Patrimônio Líquido    0.032277\n",
       "dtype: float64"
      ]
     },
     "execution_count": 367,
     "metadata": {},
     "output_type": "execute_result"
    }
   ],
   "source": [
    "(pl_cielo.pct_change() + 1).prod() - 1"
   ]
  },
  {
   "cell_type": "code",
   "execution_count": 368,
   "id": "8639a128-ec93-460d-8eb5-931585c0dfc5",
   "metadata": {},
   "outputs": [
    {
     "data": {
      "text/plain": [
       "Patrimônio Líquido Consolidado    0.056335\n",
       "dtype: float64"
      ]
     },
     "execution_count": 368,
     "metadata": {},
     "output_type": "execute_result"
    }
   ],
   "source": [
    "(pl_gn.pct_change() + 1).prod() - 1"
   ]
  },
  {
   "cell_type": "code",
   "execution_count": 371,
   "id": "8eee5d76-cc5b-4c88-b9aa-a4f2180ffd33",
   "metadata": {},
   "outputs": [],
   "source": [
    "pl = pd.DataFrame()\n",
    "pl[\"PL Get Net\"] = np.array(pl_gn[pl_gn.columns[0]])\n",
    "pl[\"Pl Cielo\"] = np.array(pl_cielo[pl_cielo.columns[0]])"
   ]
  },
  {
   "cell_type": "code",
   "execution_count": 373,
   "id": "a8cb309f-6bec-4e53-89a0-8316804d2c0a",
   "metadata": {},
   "outputs": [],
   "source": [
    "pl.index = pl_gn.index"
   ]
  },
  {
   "cell_type": "code",
   "execution_count": null,
   "id": "3144c212-3744-4c72-9412-2f8821e961c8",
   "metadata": {},
   "outputs": [],
   "source": []
  }
 ],
 "metadata": {
  "kernelspec": {
   "display_name": "Python 3 (ipykernel)",
   "language": "python",
   "name": "python3"
  },
  "language_info": {
   "codemirror_mode": {
    "name": "ipython",
    "version": 3
   },
   "file_extension": ".py",
   "mimetype": "text/x-python",
   "name": "python",
   "nbconvert_exporter": "python",
   "pygments_lexer": "ipython3",
   "version": "3.9.7"
  }
 },
 "nbformat": 4,
 "nbformat_minor": 5
}
